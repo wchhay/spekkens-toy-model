{
 "cells": [
  {
   "cell_type": "code",
   "execution_count": null,
   "metadata": {},
   "outputs": [],
   "source": [
    "%matplotlib widget \n",
    "\n",
    "import numpy as np\n",
    "import matplotlib.pyplot as plt\n",
    "from mpl_toolkits.mplot3d import Axes3D "
   ]
  },
  {
   "cell_type": "code",
   "execution_count": null,
   "metadata": {},
   "outputs": [],
   "source": [
    "def create_3d_state(state: list): \n",
    "    state_3d = np.zeros((4, 4, 4), dtype=bool)\n",
    "    for cube in state:\n",
    "        state_3d[cube[0]-1, cube[1]-1, cube[2]-1] = True\n",
    "    return state_3d\n",
    "\n",
    "def plot_3d(state, title):\n",
    "    n = 4\n",
    "    fig = plt.figure()\n",
    "    ax = fig.add_subplot(111, projection='3d')\n",
    "    ax.set_title(title)\n",
    "    ax.set_xlabel('A')\n",
    "    ax.set_ylabel('B')\n",
    "    ax.set_zlabel('C')\n",
    "    labels = np.arange(1, n+1, 1)\n",
    "    grid_lines = np.arange(0.5, n+0.5, 1)\n",
    "    ax.set_xticks(grid_lines, labels)\n",
    "    ax.set_yticks(grid_lines, labels)\n",
    "    ax.set_zticks(grid_lines, labels)\n",
    "    ax.set_xlim(0, n)\n",
    "    ax.set_ylim(0, n)\n",
    "    ax.set_zlim(0, n)\n",
    "    ax.voxels(create_3d_state(state), edgecolor='k')\n",
    "    plt.show()\n",
    "    "
   ]
  },
  {
   "cell_type": "code",
   "execution_count": null,
   "metadata": {},
   "outputs": [],
   "source": [
    "uncorrelated_epistemic_state = [\n",
    "    [1,1,1],\n",
    "    [1,1,2],\n",
    "    [1,2,1],\n",
    "    [1,2,2],\n",
    "    [2,1,1],\n",
    "    [2,1,2],\n",
    "    [2,2,1],\n",
    "    [2,2,2],\n",
    "]\n",
    "plot_3d(uncorrelated_epistemic_state, 'Uncorrelated epistemic state')"
   ]
  },
  {
   "cell_type": "code",
   "execution_count": null,
   "metadata": {},
   "outputs": [],
   "source": [
    "pair_correlated_epistemic_state = [\n",
    "    [1,1,1],\n",
    "    [2,2,1],\n",
    "    [3,3,1],\n",
    "    [4,4,1],\n",
    "    [1,1,2],\n",
    "    [2,2,2],\n",
    "    [3,3,2],\n",
    "    [4,4,2],\n",
    "]\n",
    "plot_3d(pair_correlated_epistemic_state, 'Pair-correlated epistemic state')"
   ]
  },
  {
   "cell_type": "code",
   "execution_count": null,
   "metadata": {},
   "outputs": [],
   "source": [
    "triplet_correlated_epistemic_state = [\n",
    "    [1,1,1],\n",
    "    [1,2,2],\n",
    "    [2,1,2],\n",
    "    [2,2,1],\n",
    "    [3,3,3],\n",
    "    [3,4,4],\n",
    "    [4,3,4],\n",
    "    [4,4,3],\n",
    "]\n",
    "plot_3d(triplet_correlated_epistemic_state, 'Triplet-correlated epistemic state')"
   ]
  },
  {
   "cell_type": "code",
   "execution_count": null,
   "metadata": {},
   "outputs": [],
   "source": [
    "forbidden_perfectly_correlated_state = [\n",
    "    [1,1,1],\n",
    "    [2,2,2],\n",
    "    [3,3,3],\n",
    "    [4,4,4],\n",
    "]\n",
    "\n",
    "plot_3d(forbidden_perfectly_correlated_state, \"Perfectly correlated triplet of elementary systems (forbidden)\")"
   ]
  }
 ],
 "metadata": {
  "kernelspec": {
   "display_name": "Python 3 (ipykernel)",
   "language": "python",
   "name": "python3"
  },
  "language_info": {
   "codemirror_mode": {
    "name": "ipython",
    "version": 3
   },
   "file_extension": ".py",
   "mimetype": "text/x-python",
   "name": "python",
   "nbconvert_exporter": "python",
   "pygments_lexer": "ipython3",
   "version": "3.10.12"
  }
 },
 "nbformat": 4,
 "nbformat_minor": 4
}
